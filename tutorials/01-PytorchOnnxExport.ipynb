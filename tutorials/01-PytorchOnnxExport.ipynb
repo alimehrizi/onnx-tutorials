{
 "cells": [
  {
   "cell_type": "markdown",
   "metadata": {},
   "source": [
    "# Exporting model from PyTorch to ONNX\n",
    "\n",
    "In this tutorial, we describe how to use ONNX to convert a model defined\n",
    "in PyTorch into the ONNX format.\n",
    "\n",
    "ONNX exporter is part of the [PyTorch repository](http://pytorch.org/docs/master/onnx.html).\n",
    "\n",
    "For working with this tutorial, you will need to install [onnx](https://github.com/onnx/onnx). You can get binary builds of onnx with\n",
    "``conda install -c conda-forge onnx``.\n",
    "\n",
    "``NOTE``: ONNX is under active development so for the best support consider building PyTorch master branch which can be installed by following\n",
    "[the instructions here](https://github.com/pytorch/pytorch#from-source)"
   ]
  },
  {
   "cell_type": "markdown",
   "metadata": {},
   "source": [
    "## Invoking exporter\n",
    "\n",
    "Pretty much it's a matter of replacing `my_model(input)` with `torch.onnx.export(my_model, input, \"my_model.onnx\")` in your script.\n",
    "\n",
    "### Limitations\n",
    "\n",
    "***The ONNX exporter is a trace-based exporter, which means that it operates by executing your model once, and exporting the operators which were actually run during this run. This means that if your model is dynamic, e.g., changes behavior depending on input data, the export won’t be accurate.***\n",
    "\n",
    "Similarly, a trace is might be valid only for a specific input size (which is one reason why we require explicit inputs on tracing). Most of the operators export size-agnostic versions and should work on different batch sizes or input sizes. We recommend examining the model trace and making sure the traced operators look reasonable."
   ]
  },
  {
   "cell_type": "code",
   "execution_count": 1,
   "metadata": {},
   "outputs": [
    {
     "output_type": "stream",
     "name": "stdout",
     "text": [
      "Help on function export in module torch.onnx:\n\nexport(model, args, f, export_params=True, verbose=False, training=<TrainingMode.EVAL: 0>, input_names=None, output_names=None, aten=False, export_raw_ir=False, operator_export_type=None, opset_version=None, _retain_param_name=True, do_constant_folding=True, example_outputs=None, strip_doc_string=True, dynamic_axes=None, keep_initializers_as_inputs=None, custom_opsets=None, enable_onnx_checker=True, use_external_data_format=False)\n    Export a model into ONNX format.  This exporter runs your model\n    once in order to get a trace of its execution to be exported;\n    at the moment, it supports a limited set of dynamic models (e.g., RNNs.)\n    \n    Arguments:\n        model (torch.nn.Module): the model to be exported.\n        args (tuple of arguments or torch.Tensor): the inputs to\n            the model, e.g., such that ``model(*args)`` is a valid\n            invocation of the model.  Any non-Tensor arguments will\n            be hard-coded into the exported model; any Tensor arguments\n            will become inputs of the exported model, in the order they\n            occur in args.  If args is a Tensor, this is equivalent\n            to having called it with a 1-ary tuple of that Tensor.\n            (Note: passing keyword arguments to the model is not currently\n            supported.  Give us a shout if you need it.)\n        f: a file-like object (has to implement fileno that returns a file descriptor)\n            or a string containing a file name.  A binary Protobuf will be written\n            to this file.\n        export_params (bool, default True): if specified, all parameters will\n            be exported.  Set this to False if you want to export an untrained model.\n            In this case, the exported model will first take all of its parameters\n            as arguments, the ordering as specified by ``model.state_dict().values()``\n        verbose (bool, default False): if specified, we will print out a debug\n            description of the trace being exported.\n        training (enum, default TrainingMode.EVAL):\n            TrainingMode.EVAL: export the model in inference mode.\n            TrainingMode.PRESERVE: export the model in inference mode if model.training is\n            False and to a training friendly mode if model.training is True.\n            TrainingMode.TRAINING: export the model in a training friendly mode.\n        input_names(list of strings, default empty list): names to assign to the\n            input nodes of the graph, in order\n        output_names(list of strings, default empty list): names to assign to the\n            output nodes of the graph, in order\n        aten (bool, default False): [DEPRECATED. use operator_export_type] export the\n            model in aten mode. If using aten mode, all the ops original exported\n            by the functions in symbolic_opset<version>.py are exported as ATen ops.\n        export_raw_ir (bool, default False): [DEPRECATED. use operator_export_type]\n            export the internal IR directly instead of converting it to ONNX ops.\n        operator_export_type (enum, default OperatorExportTypes.ONNX):\n            OperatorExportTypes.ONNX: All ops are exported as regular ONNX ops\n            (with ONNX namespace).\n            OperatorExportTypes.ONNX_ATEN: All ops are exported as ATen ops\n            (with aten namespace).\n            OperatorExportTypes.ONNX_ATEN_FALLBACK: If an ATen op is not supported\n            in ONNX or its symbolic is missing, fall back on ATen op. Registered ops\n            are exported to ONNX regularly.\n            Example graph::\n    \n                graph(%0 : Float)::\n                  %3 : int = prim::Constant[value=0]()\n                  %4 : Float = aten::triu(%0, %3) # missing op\n                  %5 : Float = aten::mul(%4, %0) # registered op\n                  return (%5)\n    \n            is exported as::\n    \n                graph(%0 : Float)::\n                  %1 : Long() = onnx::Constant[value={0}]()\n                  %2 : Float = aten::ATen[operator=\"triu\"](%0, %1)  # missing op\n                  %3 : Float = onnx::Mul(%2, %0) # registered op\n                  return (%3)\n    \n            In the above example, aten::triu is not supported in ONNX, hence\n            exporter falls back on this op.\n            OperatorExportTypes.RAW: Export raw ir.\n            OperatorExportTypes.ONNX_FALLTHROUGH: If an op is not supported\n            in ONNX, fall through and export the operator as is, as a custom \n            ONNX op. Using this mode, the op can be exported and implemented by\n            the user for their runtime backend.\n            Example graph::\n    \n                graph(%x.1 : Long(1:1))::\n                  %1 : None = prim::Constant()\n                  %2 : Tensor = aten::sum(%x.1, %1)\n                  %y.1 : Tensor[] = prim::ListConstruct(%2)\n                  return (%y.1)\n    \n            is exported as::\n    \n                graph(%x.1 : Long(1:1))::\n                  %1 : Tensor = onnx::ReduceSum[keepdims=0](%x.1)\n                  %y.1 : Long() = prim::ListConstruct(%1)\n                  return (%y.1)\n    \n            In the above example, prim::ListConstruct is not supported, hence\n            exporter falls through.\n    \n        opset_version (int, default is 9): by default we export the model to the\n            opset version of the onnx submodule. Since ONNX's latest opset may\n            evolve before next stable release, by default we export to one stable\n            opset version. Right now, supported stable opset version is 9.\n            The opset_version must be _onnx_master_opset or in _onnx_stable_opsets\n            which are defined in torch/onnx/symbolic_helper.py\n        do_constant_folding (bool, default False): If True, the constant-folding\n            optimization is applied to the model during export. Constant-folding\n            optimization will replace some of the ops that have all constant\n            inputs, with pre-computed constant nodes.\n        example_outputs (tuple of Tensors, default None): Model's example outputs being exported.\n            example_outputs must be provided when exporting a ScriptModule or TorchScript Function.\n        strip_doc_string (bool, default True): if True, strips the field\n            \"doc_string\" from the exported model, which information about the stack\n            trace.\n        dynamic_axes (dict<string, dict<int, string>> or dict<string, list(int)>, default empty dict):\n            a dictionary to specify dynamic axes of input/output, such that:\n            - KEY:  input and/or output names\n            - VALUE: index of dynamic axes for given key and potentially the name to be used for\n            exported dynamic axes. In general the value is defined according to one of the following\n            ways or a combination of both:\n            (1). A list of integers specifying the dynamic axes of provided input. In this scenario\n            automated names will be generated and applied to dynamic axes of provided input/output\n            during export.\n            OR (2). An inner dictionary that specifies a mapping FROM the index of dynamic axis in\n            corresponding input/output TO the name that is desired to be applied on such axis of\n            such input/output during export.\n    \n            Example. if we have the following shape for inputs and outputs:\n    \n            .. code-block:: none\n    \n                shape(input_1) = ('b', 3, 'w', 'h')\n                and shape(input_2) = ('b', 4)\n                and shape(output)  = ('b', 'd', 5)\n    \n            Then `dynamic axes` can be defined either as:\n    \n            1. ONLY INDICES::\n    \n                ``dynamic_axes = {'input_1':[0, 2, 3],\n                                  'input_2':[0],\n                                  'output':[0, 1]}``\n                where automatic names will be generated for exported dynamic axes\n    \n            2. INDICES WITH CORRESPONDING NAMES::\n    \n                ``dynamic_axes = {'input_1':{0:'batch',\n                                             1:'width',\n                                             2:'height'},\n                                  'input_2':{0:'batch'},\n                                  'output':{0:'batch',\n                                            1:'detections'}``\n                where provided names will be applied to exported dynamic axes\n    \n            3. MIXED MODE OF (1) and (2)::\n    \n                ``dynamic_axes = {'input_1':[0, 2, 3],\n                                  'input_2':{0:'batch'},\n                                  'output':[0,1]}``\n    \n        keep_initializers_as_inputs (bool, default None): If True, all the\n            initializers (typically corresponding to parameters) in the\n            exported graph will also be added as inputs to the graph. If False,\n            then initializers are not added as inputs to the graph, and only\n            the non-parameter inputs are added as inputs.\n    \n            This may allow for better optimizations (such as constant folding\n            etc.) by backends/runtimes that execute these graphs. If\n            unspecified (default None), then the behavior is chosen\n            automatically as follows. If operator_export_type is\n            OperatorExportTypes.ONNX, the behavior is equivalent to setting\n            this argument to False. For other values of operator_export_type,\n            the behavior is equivalent to setting this argument to True. Note\n            that for ONNX opset version < 9, initializers MUST be part of graph\n            inputs. Therefore, if opset_version argument is set to a 8 or\n            lower, this argument will be ignored.\n        custom_opsets (dict<string, int>, default empty dict): A dictionary to indicate\n            custom opset domain and version at export. If model contains a custom opset,\n            it is optional to specify the domain and opset version in the dictionary:\n            - KEY: opset domain name\n            - VALUE: opset version\n            If the custom opset is not provided in this dictionary, opset version is set\n            to 1 by default.\n        enable_onnx_checker (bool, default True): If True the onnx model checker will be run\n            as part of the export, to ensure the exported model is a valid ONNX model.\n        external_data_format (bool, default False): If True, then the model is exported\n            in ONNX external data format, in which case some of the model parameters are stored\n            in external binary files and not in the ONNX model file itself. See link for format\n            details: \n            https://github.com/onnx/onnx/blob/8b3f7e2e7a0f2aba0e629e23d89f07c7fc0e6a5e/onnx/onnx.proto#L423\n            Also, in this case,  argument 'f' must be a string specifying the location of the model.\n            The external binary files will be stored in the same location specified by the model \n            location 'f'. If False, then the model is stored in regular format, i.e. model and\n            parameters are all in one file. This argument is ignored for all export types other\n            than ONNX.\n\n"
     ]
    }
   ],
   "source": [
    "import torch.onnx\n",
    "help(torch.onnx.export)\n",
    "\n",
    "\n"
   ]
  },
  {
   "cell_type": "markdown",
   "metadata": {},
   "source": [
    "## Trying it out on MobileNet\n",
    "\n",
    "If you already have your model built, it's just a few lines:"
   ]
  },
  {
   "cell_type": "code",
   "execution_count": 2,
   "metadata": {
    "tags": [
     "outputPrepend"
    ]
   },
   "outputs": [
    {
     "output_type": "stream",
     "name": "stdout",
     "text": [
      "      %619 : Float(960:160, 160:1, 1:1, 1:1, requires_grad=0, device=cpu),\n      %620 : Float(960:1, requires_grad=0, device=cpu),\n      %622 : Float(960:9, 1:9, 3:3, 3:1, requires_grad=0, device=cpu),\n      %623 : Float(960:1, requires_grad=0, device=cpu),\n      %625 : Float(320:960, 960:1, 1:1, 1:1, requires_grad=0, device=cpu),\n      %626 : Float(320:1, requires_grad=0, device=cpu),\n      %628 : Float(1280:320, 320:1, 1:1, 1:1, requires_grad=0, device=cpu),\n      %629 : Float(1280:1, requires_grad=0, device=cpu),\n      %630 : Long(1:1, requires_grad=0, device=cpu)):\n  %474 : Float(1:401408, 32:12544, 112:112, 112:1, requires_grad=1, device=cpu) = onnx::Conv[dilations=[1, 1], group=1, kernel_shape=[3, 3], pads=[1, 1, 1, 1], strides=[2, 2]](%input_images, %475, %476)\n  %317 : Float(1:401408, 32:12544, 112:112, 112:1, requires_grad=1, device=cpu) = onnx::Clip[max=6., min=0.](%474) # /home/altex/torch-venv/lib/python3.8/site-packages/torch/nn/functional.py:1186:0\n  %477 : Float(1:401408, 32:12544, 112:112, 112:1, requires_grad=1, device=cpu) = onnx::Conv[dilations=[1, 1], group=32, kernel_shape=[3, 3], pads=[1, 1, 1, 1], strides=[1, 1]](%317, %478, %479)\n  %320 : Float(1:401408, 32:12544, 112:112, 112:1, requires_grad=1, device=cpu) = onnx::Clip[max=6., min=0.](%477) # /home/altex/torch-venv/lib/python3.8/site-packages/torch/nn/functional.py:1186:0\n  %480 : Float(1:200704, 16:12544, 112:112, 112:1, requires_grad=1, device=cpu) = onnx::Conv[dilations=[1, 1], group=1, kernel_shape=[1, 1], pads=[0, 0, 0, 0], strides=[1, 1]](%320, %481, %482)\n  %483 : Float(1:1204224, 96:12544, 112:112, 112:1, requires_grad=1, device=cpu) = onnx::Conv[dilations=[1, 1], group=1, kernel_shape=[1, 1], pads=[0, 0, 0, 0], strides=[1, 1]](%480, %484, %485)\n  %325 : Float(1:1204224, 96:12544, 112:112, 112:1, requires_grad=1, device=cpu) = onnx::Clip[max=6., min=0.](%483) # /home/altex/torch-venv/lib/python3.8/site-packages/torch/nn/functional.py:1186:0\n  %486 : Float(1:301056, 96:3136, 56:56, 56:1, requires_grad=1, device=cpu) = onnx::Conv[dilations=[1, 1], group=96, kernel_shape=[3, 3], pads=[1, 1, 1, 1], strides=[2, 2]](%325, %487, %488)\n  %328 : Float(1:301056, 96:3136, 56:56, 56:1, requires_grad=1, device=cpu) = onnx::Clip[max=6., min=0.](%486) # /home/altex/torch-venv/lib/python3.8/site-packages/torch/nn/functional.py:1186:0\n  %489 : Float(1:75264, 24:3136, 56:56, 56:1, requires_grad=1, device=cpu) = onnx::Conv[dilations=[1, 1], group=1, kernel_shape=[1, 1], pads=[0, 0, 0, 0], strides=[1, 1]](%328, %490, %491)\n  %492 : Float(1:451584, 144:3136, 56:56, 56:1, requires_grad=1, device=cpu) = onnx::Conv[dilations=[1, 1], group=1, kernel_shape=[1, 1], pads=[0, 0, 0, 0], strides=[1, 1]](%489, %493, %494)\n  %333 : Float(1:451584, 144:3136, 56:56, 56:1, requires_grad=1, device=cpu) = onnx::Clip[max=6., min=0.](%492) # /home/altex/torch-venv/lib/python3.8/site-packages/torch/nn/functional.py:1186:0\n  %495 : Float(1:451584, 144:3136, 56:56, 56:1, requires_grad=1, device=cpu) = onnx::Conv[dilations=[1, 1], group=144, kernel_shape=[3, 3], pads=[1, 1, 1, 1], strides=[1, 1]](%333, %496, %497)\n  %336 : Float(1:451584, 144:3136, 56:56, 56:1, requires_grad=1, device=cpu) = onnx::Clip[max=6., min=0.](%495) # /home/altex/torch-venv/lib/python3.8/site-packages/torch/nn/functional.py:1186:0\n  %498 : Float(1:75264, 24:3136, 56:56, 56:1, requires_grad=1, device=cpu) = onnx::Conv[dilations=[1, 1], group=1, kernel_shape=[1, 1], pads=[0, 0, 0, 0], strides=[1, 1]](%336, %499, %500)\n  %339 : Float(1:75264, 24:3136, 56:56, 56:1, requires_grad=1, device=cpu) = onnx::Add(%489, %498) # /home/altex/torch-venv/lib/python3.8/site-packages/torchvision/models/mobilenet.py:72:0\n  %501 : Float(1:451584, 144:3136, 56:56, 56:1, requires_grad=1, device=cpu) = onnx::Conv[dilations=[1, 1], group=1, kernel_shape=[1, 1], pads=[0, 0, 0, 0], strides=[1, 1]](%339, %502, %503)\n  %342 : Float(1:451584, 144:3136, 56:56, 56:1, requires_grad=1, device=cpu) = onnx::Clip[max=6., min=0.](%501) # /home/altex/torch-venv/lib/python3.8/site-packages/torch/nn/functional.py:1186:0\n  %504 : Float(1:112896, 144:784, 28:28, 28:1, requires_grad=1, device=cpu) = onnx::Conv[dilations=[1, 1], group=144, kernel_shape=[3, 3], pads=[1, 1, 1, 1], strides=[2, 2]](%342, %505, %506)\n  %345 : Float(1:112896, 144:784, 28:28, 28:1, requires_grad=1, device=cpu) = onnx::Clip[max=6., min=0.](%504) # /home/altex/torch-venv/lib/python3.8/site-packages/torch/nn/functional.py:1186:0\n  %507 : Float(1:25088, 32:784, 28:28, 28:1, requires_grad=1, device=cpu) = onnx::Conv[dilations=[1, 1], group=1, kernel_shape=[1, 1], pads=[0, 0, 0, 0], strides=[1, 1]](%345, %508, %509)\n  %510 : Float(1:150528, 192:784, 28:28, 28:1, requires_grad=1, device=cpu) = onnx::Conv[dilations=[1, 1], group=1, kernel_shape=[1, 1], pads=[0, 0, 0, 0], strides=[1, 1]](%507, %511, %512)\n  %350 : Float(1:150528, 192:784, 28:28, 28:1, requires_grad=1, device=cpu) = onnx::Clip[max=6., min=0.](%510) # /home/altex/torch-venv/lib/python3.8/site-packages/torch/nn/functional.py:1186:0\n  %513 : Float(1:150528, 192:784, 28:28, 28:1, requires_grad=1, device=cpu) = onnx::Conv[dilations=[1, 1], group=192, kernel_shape=[3, 3], pads=[1, 1, 1, 1], strides=[1, 1]](%350, %514, %515)\n  %353 : Float(1:150528, 192:784, 28:28, 28:1, requires_grad=1, device=cpu) = onnx::Clip[max=6., min=0.](%513) # /home/altex/torch-venv/lib/python3.8/site-packages/torch/nn/functional.py:1186:0\n  %516 : Float(1:25088, 32:784, 28:28, 28:1, requires_grad=1, device=cpu) = onnx::Conv[dilations=[1, 1], group=1, kernel_shape=[1, 1], pads=[0, 0, 0, 0], strides=[1, 1]](%353, %517, %518)\n  %356 : Float(1:25088, 32:784, 28:28, 28:1, requires_grad=1, device=cpu) = onnx::Add(%507, %516) # /home/altex/torch-venv/lib/python3.8/site-packages/torchvision/models/mobilenet.py:72:0\n  %519 : Float(1:150528, 192:784, 28:28, 28:1, requires_grad=1, device=cpu) = onnx::Conv[dilations=[1, 1], group=1, kernel_shape=[1, 1], pads=[0, 0, 0, 0], strides=[1, 1]](%356, %520, %521)\n  %359 : Float(1:150528, 192:784, 28:28, 28:1, requires_grad=1, device=cpu) = onnx::Clip[max=6., min=0.](%519) # /home/altex/torch-venv/lib/python3.8/site-packages/torch/nn/functional.py:1186:0\n  %522 : Float(1:150528, 192:784, 28:28, 28:1, requires_grad=1, device=cpu) = onnx::Conv[dilations=[1, 1], group=192, kernel_shape=[3, 3], pads=[1, 1, 1, 1], strides=[1, 1]](%359, %523, %524)\n  %362 : Float(1:150528, 192:784, 28:28, 28:1, requires_grad=1, device=cpu) = onnx::Clip[max=6., min=0.](%522) # /home/altex/torch-venv/lib/python3.8/site-packages/torch/nn/functional.py:1186:0\n  %525 : Float(1:25088, 32:784, 28:28, 28:1, requires_grad=1, device=cpu) = onnx::Conv[dilations=[1, 1], group=1, kernel_shape=[1, 1], pads=[0, 0, 0, 0], strides=[1, 1]](%362, %526, %527)\n  %365 : Float(1:25088, 32:784, 28:28, 28:1, requires_grad=1, device=cpu) = onnx::Add(%356, %525) # /home/altex/torch-venv/lib/python3.8/site-packages/torchvision/models/mobilenet.py:72:0\n  %528 : Float(1:150528, 192:784, 28:28, 28:1, requires_grad=1, device=cpu) = onnx::Conv[dilations=[1, 1], group=1, kernel_shape=[1, 1], pads=[0, 0, 0, 0], strides=[1, 1]](%365, %529, %530)\n  %368 : Float(1:150528, 192:784, 28:28, 28:1, requires_grad=1, device=cpu) = onnx::Clip[max=6., min=0.](%528) # /home/altex/torch-venv/lib/python3.8/site-packages/torch/nn/functional.py:1186:0\n  %531 : Float(1:37632, 192:196, 14:14, 14:1, requires_grad=1, device=cpu) = onnx::Conv[dilations=[1, 1], group=192, kernel_shape=[3, 3], pads=[1, 1, 1, 1], strides=[2, 2]](%368, %532, %533)\n  %371 : Float(1:37632, 192:196, 14:14, 14:1, requires_grad=1, device=cpu) = onnx::Clip[max=6., min=0.](%531) # /home/altex/torch-venv/lib/python3.8/site-packages/torch/nn/functional.py:1186:0\n  %534 : Float(1:12544, 64:196, 14:14, 14:1, requires_grad=1, device=cpu) = onnx::Conv[dilations=[1, 1], group=1, kernel_shape=[1, 1], pads=[0, 0, 0, 0], strides=[1, 1]](%371, %535, %536)\n  %537 : Float(1:75264, 384:196, 14:14, 14:1, requires_grad=1, device=cpu) = onnx::Conv[dilations=[1, 1], group=1, kernel_shape=[1, 1], pads=[0, 0, 0, 0], strides=[1, 1]](%534, %538, %539)\n  %376 : Float(1:75264, 384:196, 14:14, 14:1, requires_grad=1, device=cpu) = onnx::Clip[max=6., min=0.](%537) # /home/altex/torch-venv/lib/python3.8/site-packages/torch/nn/functional.py:1186:0\n  %540 : Float(1:75264, 384:196, 14:14, 14:1, requires_grad=1, device=cpu) = onnx::Conv[dilations=[1, 1], group=384, kernel_shape=[3, 3], pads=[1, 1, 1, 1], strides=[1, 1]](%376, %541, %542)\n  %379 : Float(1:75264, 384:196, 14:14, 14:1, requires_grad=1, device=cpu) = onnx::Clip[max=6., min=0.](%540) # /home/altex/torch-venv/lib/python3.8/site-packages/torch/nn/functional.py:1186:0\n  %543 : Float(1:12544, 64:196, 14:14, 14:1, requires_grad=1, device=cpu) = onnx::Conv[dilations=[1, 1], group=1, kernel_shape=[1, 1], pads=[0, 0, 0, 0], strides=[1, 1]](%379, %544, %545)\n  %382 : Float(1:12544, 64:196, 14:14, 14:1, requires_grad=1, device=cpu) = onnx::Add(%534, %543) # /home/altex/torch-venv/lib/python3.8/site-packages/torchvision/models/mobilenet.py:72:0\n  %546 : Float(1:75264, 384:196, 14:14, 14:1, requires_grad=1, device=cpu) = onnx::Conv[dilations=[1, 1], group=1, kernel_shape=[1, 1], pads=[0, 0, 0, 0], strides=[1, 1]](%382, %547, %548)\n  %385 : Float(1:75264, 384:196, 14:14, 14:1, requires_grad=1, device=cpu) = onnx::Clip[max=6., min=0.](%546) # /home/altex/torch-venv/lib/python3.8/site-packages/torch/nn/functional.py:1186:0\n  %549 : Float(1:75264, 384:196, 14:14, 14:1, requires_grad=1, device=cpu) = onnx::Conv[dilations=[1, 1], group=384, kernel_shape=[3, 3], pads=[1, 1, 1, 1], strides=[1, 1]](%385, %550, %551)\n  %388 : Float(1:75264, 384:196, 14:14, 14:1, requires_grad=1, device=cpu) = onnx::Clip[max=6., min=0.](%549) # /home/altex/torch-venv/lib/python3.8/site-packages/torch/nn/functional.py:1186:0\n  %552 : Float(1:12544, 64:196, 14:14, 14:1, requires_grad=1, device=cpu) = onnx::Conv[dilations=[1, 1], group=1, kernel_shape=[1, 1], pads=[0, 0, 0, 0], strides=[1, 1]](%388, %553, %554)\n  %391 : Float(1:12544, 64:196, 14:14, 14:1, requires_grad=1, device=cpu) = onnx::Add(%382, %552) # /home/altex/torch-venv/lib/python3.8/site-packages/torchvision/models/mobilenet.py:72:0\n  %555 : Float(1:75264, 384:196, 14:14, 14:1, requires_grad=1, device=cpu) = onnx::Conv[dilations=[1, 1], group=1, kernel_shape=[1, 1], pads=[0, 0, 0, 0], strides=[1, 1]](%391, %556, %557)\n  %394 : Float(1:75264, 384:196, 14:14, 14:1, requires_grad=1, device=cpu) = onnx::Clip[max=6., min=0.](%555) # /home/altex/torch-venv/lib/python3.8/site-packages/torch/nn/functional.py:1186:0\n  %558 : Float(1:75264, 384:196, 14:14, 14:1, requires_grad=1, device=cpu) = onnx::Conv[dilations=[1, 1], group=384, kernel_shape=[3, 3], pads=[1, 1, 1, 1], strides=[1, 1]](%394, %559, %560)\n  %397 : Float(1:75264, 384:196, 14:14, 14:1, requires_grad=1, device=cpu) = onnx::Clip[max=6., min=0.](%558) # /home/altex/torch-venv/lib/python3.8/site-packages/torch/nn/functional.py:1186:0\n  %561 : Float(1:12544, 64:196, 14:14, 14:1, requires_grad=1, device=cpu) = onnx::Conv[dilations=[1, 1], group=1, kernel_shape=[1, 1], pads=[0, 0, 0, 0], strides=[1, 1]](%397, %562, %563)\n  %400 : Float(1:12544, 64:196, 14:14, 14:1, requires_grad=1, device=cpu) = onnx::Add(%391, %561) # /home/altex/torch-venv/lib/python3.8/site-packages/torchvision/models/mobilenet.py:72:0\n  %564 : Float(1:75264, 384:196, 14:14, 14:1, requires_grad=1, device=cpu) = onnx::Conv[dilations=[1, 1], group=1, kernel_shape=[1, 1], pads=[0, 0, 0, 0], strides=[1, 1]](%400, %565, %566)\n  %403 : Float(1:75264, 384:196, 14:14, 14:1, requires_grad=1, device=cpu) = onnx::Clip[max=6., min=0.](%564) # /home/altex/torch-venv/lib/python3.8/site-packages/torch/nn/functional.py:1186:0\n  %567 : Float(1:75264, 384:196, 14:14, 14:1, requires_grad=1, device=cpu) = onnx::Conv[dilations=[1, 1], group=384, kernel_shape=[3, 3], pads=[1, 1, 1, 1], strides=[1, 1]](%403, %568, %569)\n  %406 : Float(1:75264, 384:196, 14:14, 14:1, requires_grad=1, device=cpu) = onnx::Clip[max=6., min=0.](%567) # /home/altex/torch-venv/lib/python3.8/site-packages/torch/nn/functional.py:1186:0\n  %570 : Float(1:18816, 96:196, 14:14, 14:1, requires_grad=1, device=cpu) = onnx::Conv[dilations=[1, 1], group=1, kernel_shape=[1, 1], pads=[0, 0, 0, 0], strides=[1, 1]](%406, %571, %572)\n  %573 : Float(1:112896, 576:196, 14:14, 14:1, requires_grad=1, device=cpu) = onnx::Conv[dilations=[1, 1], group=1, kernel_shape=[1, 1], pads=[0, 0, 0, 0], strides=[1, 1]](%570, %574, %575)\n  %411 : Float(1:112896, 576:196, 14:14, 14:1, requires_grad=1, device=cpu) = onnx::Clip[max=6., min=0.](%573) # /home/altex/torch-venv/lib/python3.8/site-packages/torch/nn/functional.py:1186:0\n  %576 : Float(1:112896, 576:196, 14:14, 14:1, requires_grad=1, device=cpu) = onnx::Conv[dilations=[1, 1], group=576, kernel_shape=[3, 3], pads=[1, 1, 1, 1], strides=[1, 1]](%411, %577, %578)\n  %414 : Float(1:112896, 576:196, 14:14, 14:1, requires_grad=1, device=cpu) = onnx::Clip[max=6., min=0.](%576) # /home/altex/torch-venv/lib/python3.8/site-packages/torch/nn/functional.py:1186:0\n  %579 : Float(1:18816, 96:196, 14:14, 14:1, requires_grad=1, device=cpu) = onnx::Conv[dilations=[1, 1], group=1, kernel_shape=[1, 1], pads=[0, 0, 0, 0], strides=[1, 1]](%414, %580, %581)\n  %417 : Float(1:18816, 96:196, 14:14, 14:1, requires_grad=1, device=cpu) = onnx::Add(%570, %579) # /home/altex/torch-venv/lib/python3.8/site-packages/torchvision/models/mobilenet.py:72:0\n  %582 : Float(1:112896, 576:196, 14:14, 14:1, requires_grad=1, device=cpu) = onnx::Conv[dilations=[1, 1], group=1, kernel_shape=[1, 1], pads=[0, 0, 0, 0], strides=[1, 1]](%417, %583, %584)\n  %420 : Float(1:112896, 576:196, 14:14, 14:1, requires_grad=1, device=cpu) = onnx::Clip[max=6., min=0.](%582) # /home/altex/torch-venv/lib/python3.8/site-packages/torch/nn/functional.py:1186:0\n  %585 : Float(1:112896, 576:196, 14:14, 14:1, requires_grad=1, device=cpu) = onnx::Conv[dilations=[1, 1], group=576, kernel_shape=[3, 3], pads=[1, 1, 1, 1], strides=[1, 1]](%420, %586, %587)\n  %423 : Float(1:112896, 576:196, 14:14, 14:1, requires_grad=1, device=cpu) = onnx::Clip[max=6., min=0.](%585) # /home/altex/torch-venv/lib/python3.8/site-packages/torch/nn/functional.py:1186:0\n  %588 : Float(1:18816, 96:196, 14:14, 14:1, requires_grad=1, device=cpu) = onnx::Conv[dilations=[1, 1], group=1, kernel_shape=[1, 1], pads=[0, 0, 0, 0], strides=[1, 1]](%423, %589, %590)\n  %426 : Float(1:18816, 96:196, 14:14, 14:1, requires_grad=1, device=cpu) = onnx::Add(%417, %588) # /home/altex/torch-venv/lib/python3.8/site-packages/torchvision/models/mobilenet.py:72:0\n  %591 : Float(1:112896, 576:196, 14:14, 14:1, requires_grad=1, device=cpu) = onnx::Conv[dilations=[1, 1], group=1, kernel_shape=[1, 1], pads=[0, 0, 0, 0], strides=[1, 1]](%426, %592, %593)\n  %429 : Float(1:112896, 576:196, 14:14, 14:1, requires_grad=1, device=cpu) = onnx::Clip[max=6., min=0.](%591) # /home/altex/torch-venv/lib/python3.8/site-packages/torch/nn/functional.py:1186:0\n  %594 : Float(1:28224, 576:49, 7:7, 7:1, requires_grad=1, device=cpu) = onnx::Conv[dilations=[1, 1], group=576, kernel_shape=[3, 3], pads=[1, 1, 1, 1], strides=[2, 2]](%429, %595, %596)\n  %432 : Float(1:28224, 576:49, 7:7, 7:1, requires_grad=1, device=cpu) = onnx::Clip[max=6., min=0.](%594) # /home/altex/torch-venv/lib/python3.8/site-packages/torch/nn/functional.py:1186:0\n  %597 : Float(1:7840, 160:49, 7:7, 7:1, requires_grad=1, device=cpu) = onnx::Conv[dilations=[1, 1], group=1, kernel_shape=[1, 1], pads=[0, 0, 0, 0], strides=[1, 1]](%432, %598, %599)\n  %600 : Float(1:47040, 960:49, 7:7, 7:1, requires_grad=1, device=cpu) = onnx::Conv[dilations=[1, 1], group=1, kernel_shape=[1, 1], pads=[0, 0, 0, 0], strides=[1, 1]](%597, %601, %602)\n  %437 : Float(1:47040, 960:49, 7:7, 7:1, requires_grad=1, device=cpu) = onnx::Clip[max=6., min=0.](%600) # /home/altex/torch-venv/lib/python3.8/site-packages/torch/nn/functional.py:1186:0\n  %603 : Float(1:47040, 960:49, 7:7, 7:1, requires_grad=1, device=cpu) = onnx::Conv[dilations=[1, 1], group=960, kernel_shape=[3, 3], pads=[1, 1, 1, 1], strides=[1, 1]](%437, %604, %605)\n  %440 : Float(1:47040, 960:49, 7:7, 7:1, requires_grad=1, device=cpu) = onnx::Clip[max=6., min=0.](%603) # /home/altex/torch-venv/lib/python3.8/site-packages/torch/nn/functional.py:1186:0\n  %606 : Float(1:7840, 160:49, 7:7, 7:1, requires_grad=1, device=cpu) = onnx::Conv[dilations=[1, 1], group=1, kernel_shape=[1, 1], pads=[0, 0, 0, 0], strides=[1, 1]](%440, %607, %608)\n  %443 : Float(1:7840, 160:49, 7:7, 7:1, requires_grad=1, device=cpu) = onnx::Add(%597, %606) # /home/altex/torch-venv/lib/python3.8/site-packages/torchvision/models/mobilenet.py:72:0\n  %609 : Float(1:47040, 960:49, 7:7, 7:1, requires_grad=1, device=cpu) = onnx::Conv[dilations=[1, 1], group=1, kernel_shape=[1, 1], pads=[0, 0, 0, 0], strides=[1, 1]](%443, %610, %611)\n  %446 : Float(1:47040, 960:49, 7:7, 7:1, requires_grad=1, device=cpu) = onnx::Clip[max=6., min=0.](%609) # /home/altex/torch-venv/lib/python3.8/site-packages/torch/nn/functional.py:1186:0\n  %612 : Float(1:47040, 960:49, 7:7, 7:1, requires_grad=1, device=cpu) = onnx::Conv[dilations=[1, 1], group=960, kernel_shape=[3, 3], pads=[1, 1, 1, 1], strides=[1, 1]](%446, %613, %614)\n  %449 : Float(1:47040, 960:49, 7:7, 7:1, requires_grad=1, device=cpu) = onnx::Clip[max=6., min=0.](%612) # /home/altex/torch-venv/lib/python3.8/site-packages/torch/nn/functional.py:1186:0\n  %615 : Float(1:7840, 160:49, 7:7, 7:1, requires_grad=1, device=cpu) = onnx::Conv[dilations=[1, 1], group=1, kernel_shape=[1, 1], pads=[0, 0, 0, 0], strides=[1, 1]](%449, %616, %617)\n  %452 : Float(1:7840, 160:49, 7:7, 7:1, requires_grad=1, device=cpu) = onnx::Add(%443, %615) # /home/altex/torch-venv/lib/python3.8/site-packages/torchvision/models/mobilenet.py:72:0\n  %618 : Float(1:47040, 960:49, 7:7, 7:1, requires_grad=1, device=cpu) = onnx::Conv[dilations=[1, 1], group=1, kernel_shape=[1, 1], pads=[0, 0, 0, 0], strides=[1, 1]](%452, %619, %620)\n  %455 : Float(1:47040, 960:49, 7:7, 7:1, requires_grad=1, device=cpu) = onnx::Clip[max=6., min=0.](%618) # /home/altex/torch-venv/lib/python3.8/site-packages/torch/nn/functional.py:1186:0\n  %621 : Float(1:47040, 960:49, 7:7, 7:1, requires_grad=1, device=cpu) = onnx::Conv[dilations=[1, 1], group=960, kernel_shape=[3, 3], pads=[1, 1, 1, 1], strides=[1, 1]](%455, %622, %623)\n  %458 : Float(1:47040, 960:49, 7:7, 7:1, requires_grad=1, device=cpu) = onnx::Clip[max=6., min=0.](%621) # /home/altex/torch-venv/lib/python3.8/site-packages/torch/nn/functional.py:1186:0\n  %624 : Float(1:15680, 320:49, 7:7, 7:1, requires_grad=1, device=cpu) = onnx::Conv[dilations=[1, 1], group=1, kernel_shape=[1, 1], pads=[0, 0, 0, 0], strides=[1, 1]](%458, %625, %626)\n  %627 : Float(1:62720, 1280:49, 7:7, 7:1, requires_grad=1, device=cpu) = onnx::Conv[dilations=[1, 1], group=1, kernel_shape=[1, 1], pads=[0, 0, 0, 0], strides=[1, 1]](%624, %628, %629)\n  %463 : Float(1:62720, 1280:49, 7:7, 7:1, requires_grad=1, device=cpu) = onnx::Clip[max=6., min=0.](%627) # /home/altex/torch-venv/lib/python3.8/site-packages/torch/nn/functional.py:1186:0\n  %464 : Float(1:1280, 1280:1, 1:1, 1:1, requires_grad=1, device=cpu) = onnx::GlobalAveragePool(%463) # /home/altex/torch-venv/lib/python3.8/site-packages/torch/nn/functional.py:936:0\n  %465 : Tensor = onnx::Shape(%463)\n  %466 : Tensor = onnx::Constant[value={0}]()\n  %467 : Long(device=cpu) = onnx::Gather[axis=0](%465, %466) # /home/altex/torch-venv/lib/python3.8/site-packages/torchvision/models/mobilenet.py:166:0\n  %469 : Tensor = onnx::Unsqueeze[axes=[0]](%467)\n  %471 : Tensor = onnx::Concat[axis=0](%469, %630)\n  %472 : Float(1:1280, 1280:1, requires_grad=1, device=cpu) = onnx::Reshape(%464, %471) # /home/altex/torch-venv/lib/python3.8/site-packages/torch/nn/functional.py:983:0\n  %output : Float(1:1000, 1000:1, requires_grad=1, device=cpu) = onnx::Gemm[alpha=1., beta=1., transB=1](%472, %classifier.1.weight, %classifier.1.bias) # /home/altex/torch-venv/lib/python3.8/site-packages/torch/nn/functional.py:1690:0\n  return (%output)\n\n"
     ]
    }
   ],
   "source": [
    "import torch.onnx\n",
    "import torchvision\n",
    "\n",
    "# Standard ImageNet input - 3 channels, 224x224,\n",
    "# values don't matter as we care about network structure.\n",
    "# But they can also be real inputs.\n",
    "dummy_input = torch.randn(1, 3, 224, 224)\n",
    "# Obtain your model, it can be also constructed in your script explicitly\n",
    "model = torchvision.models.mobilenet_v2(pretrained=True)\n",
    "# Invoke export\n",
    "input_names = [ \"input_images\" ]\n",
    "output_names = [\"output\"]\n",
    "torch.onnx.export(model, dummy_input, \"mobileNetV2.onnx\",verbose=True,input_names=input_names, output_names=output_names)"
   ]
  },
  {
   "cell_type": "markdown",
   "metadata": {},
   "source": [
    "**That's it!**\n",
    "The resulting mobileNetV2.onnx is a binary protobuf file which contains both the network structure and parameters of the model you exported\n",
    "\n",
    "## Inspecting model\n",
    "\n",
    "You can also use ONNX tooling to check the validity of the resulting model or inspect the details"
   ]
  },
  {
   "cell_type": "code",
   "execution_count": null,
   "metadata": {},
   "outputs": [],
   "source": [
    "import onnx\n",
    "\n",
    "# Load the ONNX model\n",
    "model = onnx.load(\"mobileNetV2.onnx\")\n",
    "\n",
    "# Check that the IR is well formed\n",
    "onnx.checker.check_model(model)\n",
    "\n",
    "# Print a human readable representation of the graph\n",
    "print(onnx.helper.printable_graph(model.graph))"
   ]
  },
  {
   "cell_type": "markdown",
   "metadata": {},
   "source": [
    "Notice that all parameters are listed as graph's inputs but they also have stored values initialized in `model.graph.initializers`."
   ]
  },
  {
   "source": [
    "You can also run the exported model with ONNX Runtime, you will need to install ONNX Runtime: please [follow these instructions](https://github.com/microsoft/onnxruntime#installation).\n",
    "\n",
    "Once these are installed, you can use the backend for ONNX Runtime:"
   ],
   "cell_type": "markdown",
   "metadata": {
    "collapsed": true
   }
  },
  {
   "cell_type": "code",
   "execution_count": null,
   "metadata": {},
   "outputs": [],
   "source": [
    "import onnxruntime as ort"
   ]
  },
  {
   "cell_type": "code",
   "execution_count": null,
   "metadata": {},
   "outputs": [],
   "source": [
    "ort_session = ort.InferenceSession('mobileNetV2.onnx')"
   ]
  },
  {
   "cell_type": "code",
   "execution_count": null,
   "metadata": {},
   "outputs": [],
   "source": [
    "import numpy as np\n",
    "outputs = ort_session.run(None, {'input_images': np.random.randn(1, 3, 224, 224).astype(np.float32)})"
   ]
  },
  {
   "cell_type": "code",
   "execution_count": null,
   "metadata": {},
   "outputs": [],
   "source": [
    "outputs[0].shape"
   ]
  },
  {
   "source": [
    "# Tracing vs Scripting\n",
    "The ONNX exporter can be both `trace-based` and `script-based` exporter.\n",
    "\n",
    "`trace-based` means that it operates by executing your model once, and exporting the operators which were actually run during this run. This means that if your model is dynamic, e.g., changes behavior depending on input data, the export won’t be accurate. Similarly, a trace is likely to be valid only for a specific input size (which is one reason why we require explicit inputs on tracing.) We recommend examining the model trace and making sure the traced operators look reasonable. If your model contains control flows like for loops and if conditions, **trace-based exporter will unroll the loops and if conditions, exporting a static graph that is exactly the same as this run**. If you want to export your model with dynamic control flows, you will need to use the script-based exporter.\n",
    "\n",
    "script-based means that the model you are trying to export is a ScriptModule. ScriptModule is the core data structure in TorchScript, and TorchScript is a subset of Python language, that creates serializable and optimizable models from PyTorch code.\n",
    "\n",
    "We allow mixing tracing and scripting. You can compose tracing and scripting to suit the particular requirements of a part of a model. Checkout this example:"
   ],
   "cell_type": "markdown",
   "metadata": {}
  },
  {
   "cell_type": "code",
   "execution_count": 152,
   "metadata": {},
   "outputs": [
    {
     "output_type": "stream",
     "name": "stdout",
     "text": [
      "tensor([-1.2333])\ntensor([-1.3999])\n"
     ]
    }
   ],
   "source": [
    "import torch  \n",
    "\n",
    "class LoopModel(torch.nn.Module):\n",
    "    def __init__(self,n_loop):\n",
    "        super(LoopModel, self).__init__()\n",
    "        self.n_loop = n_loop\n",
    "    def forward(self, x):\n",
    "        out = x + 1\n",
    "        for i in range(self.n_loop):\n",
    "            out += out * i\n",
    "        return out  \n",
    "\n",
    "loop = LoopModel(3) \n",
    "x = torch.randn(1)\n",
    "print(x)\n",
    "out = loop(x)\n",
    "print(out) "
   ]
  },
  {
   "cell_type": "code",
   "execution_count": 153,
   "metadata": {},
   "outputs": [],
   "source": [
    "traced_module = torch.jit.trace(loop,x)"
   ]
  },
  {
   "cell_type": "code",
   "execution_count": 154,
   "metadata": {},
   "outputs": [
    {
     "output_type": "stream",
     "name": "stdout",
     "text": [
      "tensor([-1.2333])\n"
     ]
    },
    {
     "output_type": "execute_result",
     "data": {
      "text/plain": [
       "tensor([-1.3999])"
      ]
     },
     "metadata": {},
     "execution_count": 154
    }
   ],
   "source": [
    "print(x)\n",
    "traced_module(x)"
   ]
  },
  {
   "cell_type": "code",
   "execution_count": 155,
   "metadata": {},
   "outputs": [
    {
     "output_type": "execute_result",
     "data": {
      "text/plain": [
       "graph(%self : __torch__.___torch_mangle_12.LoopModel,\n",
       "      %x : Float(1:1, requires_grad=0, device=cpu)):\n",
       "  %3 : Long(requires_grad=0, device=cpu) = prim::Constant[value={1}]() # <ipython-input-152-ea50f94f04b6>:8:0\n",
       "  %4 : int = prim::Constant[value=1]() # <ipython-input-152-ea50f94f04b6>:8:0\n",
       "  %out.1 : Float(1:1, requires_grad=0, device=cpu) = aten::add(%x, %3, %4) # <ipython-input-152-ea50f94f04b6>:8:0\n",
       "  %6 : Long(requires_grad=0, device=cpu) = prim::Constant[value={0}]() # <ipython-input-152-ea50f94f04b6>:10:0\n",
       "  %7 : Float(1:1, requires_grad=0, device=cpu) = aten::mul(%out.1, %6) # <ipython-input-152-ea50f94f04b6>:10:0\n",
       "  %8 : int = prim::Constant[value=1]() # <ipython-input-152-ea50f94f04b6>:10:0\n",
       "  %out.2 : Float(1:1, requires_grad=0, device=cpu) = aten::add_(%out.1, %7, %8) # <ipython-input-152-ea50f94f04b6>:10:0\n",
       "  %10 : Long(requires_grad=0, device=cpu) = prim::Constant[value={1}]() # <ipython-input-152-ea50f94f04b6>:10:0\n",
       "  %11 : Float(1:1, requires_grad=0, device=cpu) = aten::mul(%out.2, %10) # <ipython-input-152-ea50f94f04b6>:10:0\n",
       "  %12 : int = prim::Constant[value=1]() # <ipython-input-152-ea50f94f04b6>:10:0\n",
       "  %out : Float(1:1, requires_grad=0, device=cpu) = aten::add_(%out.2, %11, %12) # <ipython-input-152-ea50f94f04b6>:10:0\n",
       "  %14 : Long(requires_grad=0, device=cpu) = prim::Constant[value={2}]() # <ipython-input-152-ea50f94f04b6>:10:0\n",
       "  %15 : Float(1:1, requires_grad=0, device=cpu) = aten::mul(%out, %14) # <ipython-input-152-ea50f94f04b6>:10:0\n",
       "  %16 : int = prim::Constant[value=1]() # <ipython-input-152-ea50f94f04b6>:10:0\n",
       "  %17 : Float(1:1, requires_grad=0, device=cpu) = aten::add_(%out, %15, %16) # <ipython-input-152-ea50f94f04b6>:10:0\n",
       "  return (%17)"
      ]
     },
     "metadata": {},
     "execution_count": 155
    }
   ],
   "source": [
    "traced_module.graph"
   ]
  },
  {
   "cell_type": "code",
   "execution_count": 156,
   "metadata": {},
   "outputs": [
    {
     "output_type": "execute_result",
     "data": {
      "text/plain": [
       "'def forward(self,\\n    x: Tensor) -> Tensor:\\n  out = torch.add(x, CONSTANTS.c0, alpha=1)\\n  out0 = torch.add_(out, torch.mul(out, CONSTANTS.c1), alpha=1)\\n  out1 = torch.add_(out0, torch.mul(out0, CONSTANTS.c0), alpha=1)\\n  _0 = torch.add_(out1, torch.mul(out1, CONSTANTS.c2), alpha=1)\\n  return _0\\n'"
      ]
     },
     "metadata": {},
     "execution_count": 156
    }
   ],
   "source": [
    "traced_module.code"
   ]
  },
  {
   "cell_type": "code",
   "execution_count": 157,
   "metadata": {},
   "outputs": [
    {
     "output_type": "stream",
     "name": "stdout",
     "text": [
      "graph(%0 : Float(1:1, requires_grad=0, device=cpu)):\n  %1 : Float(requires_grad=0, device=cpu) = onnx::Constant[value={1}]()\n  %2 : Float(1:1, requires_grad=0, device=cpu) = onnx::Add(%0, %1)\n  %3 : Float(requires_grad=0, device=cpu) = onnx::Constant[value={0}]()\n  %4 : Float(1:1, requires_grad=0, device=cpu) = onnx::Mul(%2, %3)\n  %5 : Float(1:1, requires_grad=0, device=cpu) = onnx::Add(%2, %4)\n  %6 : Float(requires_grad=0, device=cpu) = onnx::Constant[value={1}]()\n  %7 : Float(1:1, requires_grad=0, device=cpu) = onnx::Mul(%5, %6)\n  %8 : Float(1:1, requires_grad=0, device=cpu) = onnx::Add(%5, %7)\n  %9 : Float(requires_grad=0, device=cpu) = onnx::Constant[value={2}]()\n  %10 : Float(1:1, requires_grad=0, device=cpu) = onnx::Mul(%8, %9)\n  %11 : Float(1:1, requires_grad=0, device=cpu) = onnx::Add(%8, %10)\n  return (%11)\n\n"
     ]
    }
   ],
   "source": [
    "# With trace-based exporter, we get the result ONNX graph which unrolls the for loop:\n",
    "torch.onnx.export(LoopModel(3),(x),'loop.onnx', verbose=True)"
   ]
  },
  {
   "source": [
    "To utilize script-based exporter for capturing the dynamic loop, we can write the loop in script, and call it from the regular nn.Module:"
   ],
   "cell_type": "markdown",
   "metadata": {}
  },
  {
   "cell_type": "code",
   "execution_count": 158,
   "metadata": {},
   "outputs": [],
   "source": [
    "@torch.jit.script\n",
    "def loop_fn(out,n_loop):\n",
    "    for i in range(int(n_loop)):\n",
    "        out += out * i\n",
    "    return out \n",
    "class LoopModel(torch.nn.Module):\n",
    "    def __init__(self):\n",
    "        super(LoopModel, self).__init__()\n",
    "     \n",
    "    def forward(self, x, loop_count):\n",
    "        out = x + 1\n",
    "        out = loop_fn(out, loop_count)\n",
    "        return out  "
   ]
  },
  {
   "cell_type": "code",
   "execution_count": 163,
   "metadata": {},
   "outputs": [
    {
     "output_type": "stream",
     "name": "stdout",
     "text": [
      "graph(%inputs : Float(1:1, requires_grad=0, device=cpu),\n      %loop_count : Long(requires_grad=0, device=cpu),\n      %14 : Bool(requires_grad=0, device=cpu)):\n  %2 : Float(requires_grad=0, device=cpu) = onnx::Constant[value={1}]()\n  %3 : Float(1:1, requires_grad=0, device=cpu) = onnx::Add(%inputs, %2)\n  %4 : Long(requires_grad=0, device=cpu) = onnx::Constant[value={1}]()\n  %output : Float(1:1, requires_grad=0, device=cpu) = onnx::Loop(%loop_count, %14, %3) # <ipython-input-158-eede94731347>:3:4\n    block0(%i.1 : Long(device=cpu), %cond : bool, %out.7 : Float(1:1, requires_grad=0, device=cpu)):\n      %10 : Float(device=cpu) = onnx::Cast[to=1](%i.1)\n      %11 : FloatTensor = onnx::Mul(%out.7, %10) # <ipython-input-158-eede94731347>:4:15\n      %12 : FloatTensor = onnx::Add(%out.7, %11)\n      %13 : bool = onnx::Cast[to=9](%4)\n      -> (%13, %12)\n  return (%output)\n\n"
     ]
    }
   ],
   "source": [
    "loop_count = torch.tensor(5, dtype=torch.long)\n",
    "torch.onnx.export(LoopModel(),(x,loop_count),'loop.onnx', verbose=True, input_names=['inputs','loop_count'], output_names=['output'])"
   ]
  },
  {
   "cell_type": "code",
   "execution_count": 164,
   "metadata": {},
   "outputs": [],
   "source": [
    "sess = ort.InferenceSession('loop.onnx')"
   ]
  },
  {
   "cell_type": "code",
   "execution_count": 171,
   "metadata": {},
   "outputs": [
    {
     "output_type": "execute_result",
     "data": {
      "text/plain": [
       "[array([5.2], dtype=float32)]"
      ]
     },
     "metadata": {},
     "execution_count": 171
    }
   ],
   "source": [
    "sess.run(None, {'inputs':np.array([1.6]).astype(np.float32), 'loop_count':np.array([2])})"
   ]
  },
  {
   "source": [
    "## Using dictionaries to handle Named Arguments as model inputs\n",
    "There are two ways to handle models which consist of named parameters or keyword arguments as inputs:\n",
    "\n",
    "* The first method is to pass all the inputs in the same order as required by the model and pass None values for the keyword arguments that do not require a value to be passed\n",
    "\n",
    "* The second and more intuitive method is to represent the keyword arguments as key-value pairs where the key represents the name of the argument in the model signature and the value represents the value of the argument to be passed\n"
   ],
   "cell_type": "markdown",
   "metadata": {}
  },
  {
   "cell_type": "code",
   "execution_count": 34,
   "metadata": {},
   "outputs": [
    {
     "output_type": "error",
     "ename": "RuntimeError",
     "evalue": "Only tuples, lists and Variables supported as JIT inputs/outputs. Dictionaries and strings are also accepted but their usage is not recommended. But got unsupported type NoneType",
     "traceback": [
      "\u001b[0;31m---------------------------------------------------------------------------\u001b[0m",
      "\u001b[0;31mRuntimeError\u001b[0m                              Traceback (most recent call last)",
      "\u001b[0;32m<ipython-input-34-8eb8116be174>\u001b[0m in \u001b[0;36m<module>\u001b[0;34m\u001b[0m\n\u001b[1;32m     14\u001b[0m \u001b[0my\u001b[0m \u001b[0;34m=\u001b[0m \u001b[0mtorch\u001b[0m\u001b[0;34m.\u001b[0m\u001b[0mrandn\u001b[0m\u001b[0;34m(\u001b[0m\u001b[0;36m1\u001b[0m\u001b[0;34m)\u001b[0m\u001b[0;34m\u001b[0m\u001b[0;34m\u001b[0m\u001b[0m\n\u001b[1;32m     15\u001b[0m \u001b[0mz\u001b[0m \u001b[0;34m=\u001b[0m \u001b[0mtorch\u001b[0m\u001b[0;34m.\u001b[0m\u001b[0mrandn\u001b[0m\u001b[0;34m(\u001b[0m\u001b[0;36m1\u001b[0m\u001b[0;34m)\u001b[0m\u001b[0;34m\u001b[0m\u001b[0;34m\u001b[0m\u001b[0m\n\u001b[0;32m---> 16\u001b[0;31m \u001b[0mtorch\u001b[0m\u001b[0;34m.\u001b[0m\u001b[0monnx\u001b[0m\u001b[0;34m.\u001b[0m\u001b[0mexport\u001b[0m\u001b[0;34m(\u001b[0m\u001b[0mModel\u001b[0m\u001b[0;34m(\u001b[0m\u001b[0;34m)\u001b[0m\u001b[0;34m,\u001b[0m\u001b[0;34m(\u001b[0m\u001b[0mx\u001b[0m\u001b[0;34m,\u001b[0m\u001b[0;34m{\u001b[0m\u001b[0;34m'y'\u001b[0m\u001b[0;34m:\u001b[0m\u001b[0;32mNone\u001b[0m\u001b[0;34m,\u001b[0m\u001b[0;34m'z'\u001b[0m\u001b[0;34m:\u001b[0m\u001b[0mz\u001b[0m\u001b[0;34m}\u001b[0m\u001b[0;34m)\u001b[0m\u001b[0;34m,\u001b[0m\u001b[0;34m'model.onnx'\u001b[0m\u001b[0;34m,\u001b[0m \u001b[0moutput_names\u001b[0m\u001b[0;34m=\u001b[0m\u001b[0;34m[\u001b[0m\u001b[0;34m'out'\u001b[0m\u001b[0;34m]\u001b[0m\u001b[0;34m,\u001b[0m\u001b[0mverbose\u001b[0m\u001b[0;34m=\u001b[0m\u001b[0;32mTrue\u001b[0m\u001b[0;34m)\u001b[0m\u001b[0;34m\u001b[0m\u001b[0;34m\u001b[0m\u001b[0m\n\u001b[0m",
      "\u001b[0;32m~/torch-venv/lib/python3.8/site-packages/torch/onnx/__init__.py\u001b[0m in \u001b[0;36mexport\u001b[0;34m(model, args, f, export_params, verbose, training, input_names, output_names, aten, export_raw_ir, operator_export_type, opset_version, _retain_param_name, do_constant_folding, example_outputs, strip_doc_string, dynamic_axes, keep_initializers_as_inputs, custom_opsets, enable_onnx_checker, use_external_data_format)\u001b[0m\n\u001b[1;32m    223\u001b[0m \u001b[0;34m\u001b[0m\u001b[0m\n\u001b[1;32m    224\u001b[0m     \u001b[0;32mfrom\u001b[0m \u001b[0mtorch\u001b[0m\u001b[0;34m.\u001b[0m\u001b[0monnx\u001b[0m \u001b[0;32mimport\u001b[0m \u001b[0mutils\u001b[0m\u001b[0;34m\u001b[0m\u001b[0;34m\u001b[0m\u001b[0m\n\u001b[0;32m--> 225\u001b[0;31m     return utils.export(model, args, f, export_params, verbose, training,\n\u001b[0m\u001b[1;32m    226\u001b[0m                         \u001b[0minput_names\u001b[0m\u001b[0;34m,\u001b[0m \u001b[0moutput_names\u001b[0m\u001b[0;34m,\u001b[0m \u001b[0maten\u001b[0m\u001b[0;34m,\u001b[0m \u001b[0mexport_raw_ir\u001b[0m\u001b[0;34m,\u001b[0m\u001b[0;34m\u001b[0m\u001b[0;34m\u001b[0m\u001b[0m\n\u001b[1;32m    227\u001b[0m                         \u001b[0moperator_export_type\u001b[0m\u001b[0;34m,\u001b[0m \u001b[0mopset_version\u001b[0m\u001b[0;34m,\u001b[0m \u001b[0m_retain_param_name\u001b[0m\u001b[0;34m,\u001b[0m\u001b[0;34m\u001b[0m\u001b[0;34m\u001b[0m\u001b[0m\n",
      "\u001b[0;32m~/torch-venv/lib/python3.8/site-packages/torch/onnx/utils.py\u001b[0m in \u001b[0;36mexport\u001b[0;34m(model, args, f, export_params, verbose, training, input_names, output_names, aten, export_raw_ir, operator_export_type, opset_version, _retain_param_name, do_constant_folding, example_outputs, strip_doc_string, dynamic_axes, keep_initializers_as_inputs, custom_opsets, enable_onnx_checker, use_external_data_format)\u001b[0m\n\u001b[1;32m     83\u001b[0m         \u001b[0;32melse\u001b[0m\u001b[0;34m:\u001b[0m\u001b[0;34m\u001b[0m\u001b[0;34m\u001b[0m\u001b[0m\n\u001b[1;32m     84\u001b[0m             \u001b[0moperator_export_type\u001b[0m \u001b[0;34m=\u001b[0m \u001b[0mOperatorExportTypes\u001b[0m\u001b[0;34m.\u001b[0m\u001b[0mONNX\u001b[0m\u001b[0;34m\u001b[0m\u001b[0;34m\u001b[0m\u001b[0m\n\u001b[0;32m---> 85\u001b[0;31m     _export(model, args, f, export_params, verbose, training, input_names, output_names,\n\u001b[0m\u001b[1;32m     86\u001b[0m             \u001b[0moperator_export_type\u001b[0m\u001b[0;34m=\u001b[0m\u001b[0moperator_export_type\u001b[0m\u001b[0;34m,\u001b[0m \u001b[0mopset_version\u001b[0m\u001b[0;34m=\u001b[0m\u001b[0mopset_version\u001b[0m\u001b[0;34m,\u001b[0m\u001b[0;34m\u001b[0m\u001b[0;34m\u001b[0m\u001b[0m\n\u001b[1;32m     87\u001b[0m             \u001b[0m_retain_param_name\u001b[0m\u001b[0;34m=\u001b[0m\u001b[0m_retain_param_name\u001b[0m\u001b[0;34m,\u001b[0m \u001b[0mdo_constant_folding\u001b[0m\u001b[0;34m=\u001b[0m\u001b[0mdo_constant_folding\u001b[0m\u001b[0;34m,\u001b[0m\u001b[0;34m\u001b[0m\u001b[0;34m\u001b[0m\u001b[0m\n",
      "\u001b[0;32m~/torch-venv/lib/python3.8/site-packages/torch/onnx/utils.py\u001b[0m in \u001b[0;36m_export\u001b[0;34m(model, args, f, export_params, verbose, training, input_names, output_names, operator_export_type, export_type, example_outputs, opset_version, _retain_param_name, do_constant_folding, strip_doc_string, dynamic_axes, keep_initializers_as_inputs, fixed_batch_size, custom_opsets, add_node_names, enable_onnx_checker, use_external_data_format, onnx_shape_inference, use_new_jit_passes)\u001b[0m\n\u001b[1;32m    630\u001b[0m \u001b[0;34m\u001b[0m\u001b[0m\n\u001b[1;32m    631\u001b[0m             \u001b[0mgraph\u001b[0m\u001b[0;34m,\u001b[0m \u001b[0mparams_dict\u001b[0m\u001b[0;34m,\u001b[0m \u001b[0mtorch_out\u001b[0m \u001b[0;34m=\u001b[0m\u001b[0;31m \u001b[0m\u001b[0;31m\\\u001b[0m\u001b[0;34m\u001b[0m\u001b[0;34m\u001b[0m\u001b[0m\n\u001b[0;32m--> 632\u001b[0;31m                 _model_to_graph(model, args, verbose, input_names,\n\u001b[0m\u001b[1;32m    633\u001b[0m                                 \u001b[0moutput_names\u001b[0m\u001b[0;34m,\u001b[0m \u001b[0moperator_export_type\u001b[0m\u001b[0;34m,\u001b[0m\u001b[0;34m\u001b[0m\u001b[0;34m\u001b[0m\u001b[0m\n\u001b[1;32m    634\u001b[0m                                 \u001b[0mexample_outputs\u001b[0m\u001b[0;34m,\u001b[0m \u001b[0m_retain_param_name\u001b[0m\u001b[0;34m,\u001b[0m\u001b[0;34m\u001b[0m\u001b[0;34m\u001b[0m\u001b[0m\n",
      "\u001b[0;32m~/torch-venv/lib/python3.8/site-packages/torch/onnx/utils.py\u001b[0m in \u001b[0;36m_model_to_graph\u001b[0;34m(model, args, verbose, input_names, output_names, operator_export_type, example_outputs, _retain_param_name, do_constant_folding, _disable_torch_constant_prop, fixed_batch_size, training, use_new_jit_passes, dynamic_axes)\u001b[0m\n\u001b[1;32m    407\u001b[0m         \u001b[0mexample_outputs\u001b[0m \u001b[0;34m=\u001b[0m \u001b[0;34m[\u001b[0m\u001b[0mexample_outputs\u001b[0m\u001b[0;34m]\u001b[0m\u001b[0;34m\u001b[0m\u001b[0;34m\u001b[0m\u001b[0m\n\u001b[1;32m    408\u001b[0m \u001b[0;34m\u001b[0m\u001b[0m\n\u001b[0;32m--> 409\u001b[0;31m     graph, params, torch_out = _create_jit_graph(model, args,\n\u001b[0m\u001b[1;32m    410\u001b[0m                                                  \u001b[0m_retain_param_name\u001b[0m\u001b[0;34m,\u001b[0m\u001b[0;34m\u001b[0m\u001b[0;34m\u001b[0m\u001b[0m\n\u001b[1;32m    411\u001b[0m                                                  use_new_jit_passes)\n",
      "\u001b[0;32m~/torch-venv/lib/python3.8/site-packages/torch/onnx/utils.py\u001b[0m in \u001b[0;36m_create_jit_graph\u001b[0;34m(model, args, _retain_param_name, use_new_jit_passes)\u001b[0m\n\u001b[1;32m    377\u001b[0m             graph, tuple(in_vars), False, False)\n\u001b[1;32m    378\u001b[0m     \u001b[0;32melse\u001b[0m\u001b[0;34m:\u001b[0m\u001b[0;34m\u001b[0m\u001b[0;34m\u001b[0m\u001b[0m\n\u001b[0;32m--> 379\u001b[0;31m         \u001b[0mgraph\u001b[0m\u001b[0;34m,\u001b[0m \u001b[0mtorch_out\u001b[0m \u001b[0;34m=\u001b[0m \u001b[0m_trace_and_get_graph_from_model\u001b[0m\u001b[0;34m(\u001b[0m\u001b[0mmodel\u001b[0m\u001b[0;34m,\u001b[0m \u001b[0margs\u001b[0m\u001b[0;34m)\u001b[0m\u001b[0;34m\u001b[0m\u001b[0;34m\u001b[0m\u001b[0m\n\u001b[0m\u001b[1;32m    380\u001b[0m         \u001b[0mstate_dict\u001b[0m \u001b[0;34m=\u001b[0m \u001b[0m_unique_state_dict\u001b[0m\u001b[0;34m(\u001b[0m\u001b[0mmodel\u001b[0m\u001b[0;34m)\u001b[0m\u001b[0;34m\u001b[0m\u001b[0;34m\u001b[0m\u001b[0m\n\u001b[1;32m    381\u001b[0m         \u001b[0mparams\u001b[0m \u001b[0;34m=\u001b[0m \u001b[0mlist\u001b[0m\u001b[0;34m(\u001b[0m\u001b[0mstate_dict\u001b[0m\u001b[0;34m.\u001b[0m\u001b[0mvalues\u001b[0m\u001b[0;34m(\u001b[0m\u001b[0;34m)\u001b[0m\u001b[0;34m)\u001b[0m\u001b[0;34m\u001b[0m\u001b[0;34m\u001b[0m\u001b[0m\n",
      "\u001b[0;32m~/torch-venv/lib/python3.8/site-packages/torch/onnx/utils.py\u001b[0m in \u001b[0;36m_trace_and_get_graph_from_model\u001b[0;34m(model, args)\u001b[0m\n\u001b[1;32m    340\u001b[0m \u001b[0;34m\u001b[0m\u001b[0m\n\u001b[1;32m    341\u001b[0m     \u001b[0mtrace_graph\u001b[0m\u001b[0;34m,\u001b[0m \u001b[0mtorch_out\u001b[0m\u001b[0;34m,\u001b[0m \u001b[0minputs_states\u001b[0m \u001b[0;34m=\u001b[0m\u001b[0;31m \u001b[0m\u001b[0;31m\\\u001b[0m\u001b[0;34m\u001b[0m\u001b[0;34m\u001b[0m\u001b[0m\n\u001b[0;32m--> 342\u001b[0;31m         \u001b[0mtorch\u001b[0m\u001b[0;34m.\u001b[0m\u001b[0mjit\u001b[0m\u001b[0;34m.\u001b[0m\u001b[0m_get_trace_graph\u001b[0m\u001b[0;34m(\u001b[0m\u001b[0mmodel\u001b[0m\u001b[0;34m,\u001b[0m \u001b[0margs\u001b[0m\u001b[0;34m,\u001b[0m \u001b[0mstrict\u001b[0m\u001b[0;34m=\u001b[0m\u001b[0;32mFalse\u001b[0m\u001b[0;34m,\u001b[0m \u001b[0m_force_outplace\u001b[0m\u001b[0;34m=\u001b[0m\u001b[0;32mFalse\u001b[0m\u001b[0;34m,\u001b[0m \u001b[0m_return_inputs_states\u001b[0m\u001b[0;34m=\u001b[0m\u001b[0;32mTrue\u001b[0m\u001b[0;34m)\u001b[0m\u001b[0;34m\u001b[0m\u001b[0;34m\u001b[0m\u001b[0m\n\u001b[0m\u001b[1;32m    343\u001b[0m     \u001b[0mwarn_on_static_input_change\u001b[0m\u001b[0;34m(\u001b[0m\u001b[0minputs_states\u001b[0m\u001b[0;34m)\u001b[0m\u001b[0;34m\u001b[0m\u001b[0;34m\u001b[0m\u001b[0m\n\u001b[1;32m    344\u001b[0m \u001b[0;34m\u001b[0m\u001b[0m\n",
      "\u001b[0;32m~/torch-venv/lib/python3.8/site-packages/torch/jit/_trace.py\u001b[0m in \u001b[0;36m_get_trace_graph\u001b[0;34m(f, args, kwargs, strict, _force_outplace, return_inputs, _return_inputs_states)\u001b[0m\n\u001b[1;32m   1146\u001b[0m     \u001b[0;32mif\u001b[0m \u001b[0;32mnot\u001b[0m \u001b[0misinstance\u001b[0m\u001b[0;34m(\u001b[0m\u001b[0margs\u001b[0m\u001b[0;34m,\u001b[0m \u001b[0mtuple\u001b[0m\u001b[0;34m)\u001b[0m\u001b[0;34m:\u001b[0m\u001b[0;34m\u001b[0m\u001b[0;34m\u001b[0m\u001b[0m\n\u001b[1;32m   1147\u001b[0m         \u001b[0margs\u001b[0m \u001b[0;34m=\u001b[0m \u001b[0;34m(\u001b[0m\u001b[0margs\u001b[0m\u001b[0;34m,\u001b[0m\u001b[0;34m)\u001b[0m\u001b[0;34m\u001b[0m\u001b[0;34m\u001b[0m\u001b[0m\n\u001b[0;32m-> 1148\u001b[0;31m     \u001b[0mouts\u001b[0m \u001b[0;34m=\u001b[0m \u001b[0mONNXTracedModule\u001b[0m\u001b[0;34m(\u001b[0m\u001b[0mf\u001b[0m\u001b[0;34m,\u001b[0m \u001b[0mstrict\u001b[0m\u001b[0;34m,\u001b[0m \u001b[0m_force_outplace\u001b[0m\u001b[0;34m,\u001b[0m \u001b[0mreturn_inputs\u001b[0m\u001b[0;34m,\u001b[0m \u001b[0m_return_inputs_states\u001b[0m\u001b[0;34m)\u001b[0m\u001b[0;34m(\u001b[0m\u001b[0;34m*\u001b[0m\u001b[0margs\u001b[0m\u001b[0;34m,\u001b[0m \u001b[0;34m**\u001b[0m\u001b[0mkwargs\u001b[0m\u001b[0;34m)\u001b[0m\u001b[0;34m\u001b[0m\u001b[0;34m\u001b[0m\u001b[0m\n\u001b[0m\u001b[1;32m   1149\u001b[0m     \u001b[0;32mreturn\u001b[0m \u001b[0mouts\u001b[0m\u001b[0;34m\u001b[0m\u001b[0;34m\u001b[0m\u001b[0m\n",
      "\u001b[0;32m~/torch-venv/lib/python3.8/site-packages/torch/nn/modules/module.py\u001b[0m in \u001b[0;36m_call_impl\u001b[0;34m(self, *input, **kwargs)\u001b[0m\n\u001b[1;32m    725\u001b[0m             \u001b[0mresult\u001b[0m \u001b[0;34m=\u001b[0m \u001b[0mself\u001b[0m\u001b[0;34m.\u001b[0m\u001b[0m_slow_forward\u001b[0m\u001b[0;34m(\u001b[0m\u001b[0;34m*\u001b[0m\u001b[0minput\u001b[0m\u001b[0;34m,\u001b[0m \u001b[0;34m**\u001b[0m\u001b[0mkwargs\u001b[0m\u001b[0;34m)\u001b[0m\u001b[0;34m\u001b[0m\u001b[0;34m\u001b[0m\u001b[0m\n\u001b[1;32m    726\u001b[0m         \u001b[0;32melse\u001b[0m\u001b[0;34m:\u001b[0m\u001b[0;34m\u001b[0m\u001b[0;34m\u001b[0m\u001b[0m\n\u001b[0;32m--> 727\u001b[0;31m             \u001b[0mresult\u001b[0m \u001b[0;34m=\u001b[0m \u001b[0mself\u001b[0m\u001b[0;34m.\u001b[0m\u001b[0mforward\u001b[0m\u001b[0;34m(\u001b[0m\u001b[0;34m*\u001b[0m\u001b[0minput\u001b[0m\u001b[0;34m,\u001b[0m \u001b[0;34m**\u001b[0m\u001b[0mkwargs\u001b[0m\u001b[0;34m)\u001b[0m\u001b[0;34m\u001b[0m\u001b[0;34m\u001b[0m\u001b[0m\n\u001b[0m\u001b[1;32m    728\u001b[0m         for hook in itertools.chain(\n\u001b[1;32m    729\u001b[0m                 \u001b[0m_global_forward_hooks\u001b[0m\u001b[0;34m.\u001b[0m\u001b[0mvalues\u001b[0m\u001b[0;34m(\u001b[0m\u001b[0;34m)\u001b[0m\u001b[0;34m,\u001b[0m\u001b[0;34m\u001b[0m\u001b[0;34m\u001b[0m\u001b[0m\n",
      "\u001b[0;32m~/torch-venv/lib/python3.8/site-packages/torch/jit/_trace.py\u001b[0m in \u001b[0;36mforward\u001b[0;34m(self, *args)\u001b[0m\n\u001b[1;32m     91\u001b[0m \u001b[0;34m\u001b[0m\u001b[0m\n\u001b[1;32m     92\u001b[0m     \u001b[0;32mdef\u001b[0m \u001b[0mforward\u001b[0m\u001b[0;34m(\u001b[0m\u001b[0mself\u001b[0m\u001b[0;34m,\u001b[0m \u001b[0;34m*\u001b[0m\u001b[0margs\u001b[0m\u001b[0;34m:\u001b[0m \u001b[0mtorch\u001b[0m\u001b[0;34m.\u001b[0m\u001b[0mTensor\u001b[0m\u001b[0;34m)\u001b[0m\u001b[0;34m:\u001b[0m\u001b[0;34m\u001b[0m\u001b[0;34m\u001b[0m\u001b[0m\n\u001b[0;32m---> 93\u001b[0;31m         \u001b[0min_vars\u001b[0m\u001b[0;34m,\u001b[0m \u001b[0min_desc\u001b[0m \u001b[0;34m=\u001b[0m \u001b[0m_flatten\u001b[0m\u001b[0;34m(\u001b[0m\u001b[0margs\u001b[0m\u001b[0;34m)\u001b[0m\u001b[0;34m\u001b[0m\u001b[0;34m\u001b[0m\u001b[0m\n\u001b[0m\u001b[1;32m     94\u001b[0m         \u001b[0;31m# NOTE: use full state, because we need it for BatchNorm export\u001b[0m\u001b[0;34m\u001b[0m\u001b[0;34m\u001b[0m\u001b[0;34m\u001b[0m\u001b[0m\n\u001b[1;32m     95\u001b[0m         \u001b[0;31m# This differs from the compiler path, which doesn't support it at the moment.\u001b[0m\u001b[0;34m\u001b[0m\u001b[0;34m\u001b[0m\u001b[0;34m\u001b[0m\u001b[0m\n",
      "\u001b[0;31mRuntimeError\u001b[0m: Only tuples, lists and Variables supported as JIT inputs/outputs. Dictionaries and strings are also accepted but their usage is not recommended. But got unsupported type NoneType"
     ]
    }
   ],
   "source": [
    "import torch.nn as nn \n",
    "\n",
    "## its not working ............\n",
    "\n",
    "class Model(nn.Module):\n",
    "    def forward(self, x, y=None, z=None):\n",
    "        if y is not None:\n",
    "            return x*y \n",
    "        else:\n",
    "            return x*z \n",
    "\n",
    "\n",
    "x = torch.randn(1)\n",
    "y = torch.randn(1)\n",
    "z = torch.randn(1)\n",
    "torch.onnx.export(Model(),(x,{'y':None,'z':z}),'model.onnx', output_names=['out'],verbose=True)\n"
   ]
  },
  {
   "source": [
    "## Indexing\n",
    "Tensor indexing in PyTorch is very flexible and complicated. There are two categories of indexing. Both are largely supported in exporting today. If you are experiencing issues exporting indexing that belongs to the supported patterns below, please double check that you are exporting with the latest opset (opset_version=12).\n",
    "\n"
   ],
   "cell_type": "markdown",
   "metadata": {}
  },
  {
   "source": [
    "## Getter\n",
    "This type of indexing occurs on the RHS. Export is supported for ONNX opset version >= 9. E.g.:"
   ],
   "cell_type": "markdown",
   "metadata": {}
  },
  {
   "cell_type": "code",
   "execution_count": 35,
   "metadata": {},
   "outputs": [],
   "source": [
    "data = torch.randn(3, 4)\n",
    "index = torch.tensor([1, 2])\n",
    "\n",
    "# RHS indexing is supported in ONNX opset >= 11.\n",
    "class RHSIndexing(torch.nn.Module):\n",
    "    def forward(self, data, index):\n",
    "        return data[index]\n",
    "\n",
    "out = RHSIndexing()(data, index)\n",
    "\n",
    "torch.onnx.export(RHSIndexing(), (data, index), 'indexing.onnx', opset_version=9)\n",
    "\n",
    "# onnxruntime\n",
    "import onnxruntime\n",
    "sess = onnxruntime.InferenceSession('indexing.onnx')\n",
    "out_ort = sess.run(None, {\n",
    "    sess.get_inputs()[0].name: data.numpy(),\n",
    "    sess.get_inputs()[1].name: index.numpy(),\n",
    "})\n",
    "\n",
    "assert torch.all(torch.eq(out, torch.tensor(out_ort)))"
   ]
  },
  {
   "source": [
    "## Below is the list of supported patterns for RHS indexing.\n",
    "```\n",
    "# Scalar indices\n",
    "data[0, 1]\n",
    "\n",
    "# Slice indices\n",
    "data[:3]\n",
    "\n",
    "# Tensor indices\n",
    "data[torch.tensor([[1, 2], [2, 3]])]\n",
    "data[torch.tensor([2, 3]), torch.tensor([1, 2])]\n",
    "data[torch.tensor([[1, 2], [2, 3]]), torch.tensor([2, 3])]\n",
    "data[torch.tensor([2, 3]), :, torch.tensor([1, 2])]\n",
    "\n",
    "# Ellipsis\n",
    "# Not supported in scripting\n",
    "# i.e. torch.jit.script(model) will fail if model contains this pattern.\n",
    "# Export is supported under tracing\n",
    "# i.e. torch.onnx.export(model)\n",
    "data[...]\n",
    "\n",
    "# The combination of above\n",
    "data[2, ..., torch.tensor([2, 1, 3]), 2:4, torch.tensor([[1], [2]])]\n",
    "\n",
    "# Boolean mask (supported for ONNX opset version >= 11)\n",
    "data[data != 1]\n",
    "```\n",
    "\n",
    "## And below is the list of unsupported patterns for RHS indexing.\n",
    "```\n",
    "# Tensor indices that includes negative values.\n",
    "data[torch.tensor([[1, 2], [2, -3]]), torch.tensor([-2, 3])]\n",
    "```"
   ],
   "cell_type": "markdown",
   "metadata": {}
  },
  {
   "source": [
    "## Setter\n",
    "In code, this type of indexing occurs on the LHS. Export is supported for ONNX opset version >= 11. E.g.:"
   ],
   "cell_type": "markdown",
   "metadata": {}
  },
  {
   "cell_type": "code",
   "execution_count": 37,
   "metadata": {},
   "outputs": [],
   "source": [
    "data = torch.zeros(3, 4)\n",
    "new_data = torch.arange(4).to(torch.float32)\n",
    "\n",
    "# LHS indexing is supported in ONNX opset >= 11.\n",
    "class LHSIndexing(torch.nn.Module):\n",
    "    def forward(self, data, new_data):\n",
    "        data[1] = new_data\n",
    "        return data\n",
    "\n",
    "out = LHSIndexing()(data, new_data)\n",
    "\n",
    "data = torch.zeros(3, 4)\n",
    "new_data = torch.arange(4).to(torch.float32)\n",
    "torch.onnx.export(LHSIndexing(), (data, new_data), 'inplace_assign.onnx', opset_version=11)\n",
    "\n",
    "# onnxruntime\n",
    "import onnxruntime\n",
    "sess = onnxruntime.InferenceSession('inplace_assign.onnx')\n",
    "out_ort = sess.run(None, {\n",
    "    sess.get_inputs()[0].name: torch.zeros(3, 4).numpy(),\n",
    "    sess.get_inputs()[1].name: new_data.numpy(),\n",
    "})\n",
    "\n",
    "assert torch.all(torch.eq(out, torch.tensor(out_ort)))"
   ]
  },
  {
   "source": [
    "## Below is the list of supported patterns for LHS indexing.\n",
    "```\n",
    "# Scalar indices\n",
    "data[0, 1] = new_data\n",
    "\n",
    "# Slice indices\n",
    "data[:3] = new_data\n",
    "\n",
    "# Tensor indices\n",
    "# If more than one tensor are used as indices, only consecutive 1-d tensor indices are supported.\n",
    "data[torch.tensor([[1, 2], [2, 3]])] = new_data\n",
    "data[torch.tensor([2, 3]), torch.tensor([1, 2])] = new_data\n",
    "\n",
    "# Ellipsis\n",
    "# Not supported to export in script modules\n",
    "# i.e. torch.onnx.export(torch.jit.script(model)) will fail if model contains this pattern.\n",
    "# Export is supported under tracing\n",
    "# i.e. torch.onnx.export(model)\n",
    "data[...] = new_data\n",
    "\n",
    "# The combination of above\n",
    "data[2, ..., torch.tensor([2, 1, 3]), 2:4] += update\n",
    "\n",
    "# Boolean mask\n",
    "data[data != 1] = new_data\n",
    "```"
   ],
   "cell_type": "markdown",
   "metadata": {}
  },
  {
   "cell_type": "code",
   "execution_count": null,
   "metadata": {},
   "outputs": [],
   "source": []
  }
 ],
 "metadata": {
  "kernelspec": {
   "name": "torch-venv",
   "display_name": "torch-venv",
   "language": "python"
  },
  "language_info": {
   "codemirror_mode": {
    "name": "ipython",
    "version": 2
   },
   "file_extension": ".py",
   "mimetype": "text/x-python",
   "name": "python",
   "nbconvert_exporter": "python",
   "pygments_lexer": "ipython2",
   "version": "3.8.0-final"
  }
 },
 "nbformat": 4,
 "nbformat_minor": 2
}